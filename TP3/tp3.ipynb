{
 "cells": [
  {
   "cell_type": "markdown",
   "metadata": {},
   "source": [
    "<img src=\"img1.png\" width=2000 height=2000>"
   ]
  },
  {
   "cell_type": "markdown",
   "metadata": {},
   "source": [
    "# <font color=red>Partie Théorique</font>\n"
   ]
  },
  {
   "cell_type": "markdown",
   "metadata": {},
   "source": [
    ">L’intégration est un des problèmes les plus importants que l’on rencontre en\n",
    "analyse. En effet, on rencontre souvent des intégrales dont le calcul par des\n",
    "méthodes analytiques est très compliqué ou même impossible, car il n’existe\n",
    "pas d’expression analytique de la primitive de la fonction à intégrer. Voici\n",
    "quelques exemples:"
   ]
  },
  {
   "cell_type": "markdown",
   "metadata": {},
   "source": [
    "<img src=\"img2.png\">"
   ]
  },
  {
   "cell_type": "markdown",
   "metadata": {},
   "source": [
    "> Dans ces cas, on peut appliquer des méthodes numériques pour évaluer la\n",
    "valeur de l’intégrale donnée:\n",
    "\n",
    "> <br>1°/ Méthode des Réctangles \n",
    "<br>2°/ Méthode des Pointes Milieux\n",
    "<br>3°/ Méthode des Trapézes\n",
    "<br>4°/ Méthode de Simpson\n"
   ]
  },
  {
   "cell_type": "markdown",
   "metadata": {},
   "source": [
    "> <b> On appelle formule composite l’expression caractérisant cette estimation. Notons k l’indice des n sous-intervalles, h = (b − a)/n la longueur de chacun d’eux, xk = a + kh la borne inférieure et mk = a + (k + 1/2)h le point milieu, ceci pour k entre 0 et n − 1. Voici quelques formules composites :"
   ]
  },
  {
   "cell_type": "markdown",
   "metadata": {},
   "source": [
    "<img src=\"img3.png\">"
   ]
  },
  {
   "cell_type": "markdown",
   "metadata": {},
   "source": [
    "<img src=\"img4.png\">"
   ]
  },
  {
   "cell_type": "markdown",
   "metadata": {},
   "source": [
    "<img src=\"img5.png\">"
   ]
  },
  {
   "cell_type": "markdown",
   "metadata": {},
   "source": [
    "<img src=\"img6.png\">"
   ]
  },
  {
   "cell_type": "markdown",
   "metadata": {},
   "source": [
    "<img src=\"img7.png\">"
   ]
  },
  {
   "cell_type": "markdown",
   "metadata": {},
   "source": [
    "<img src=\"img8.png\">"
   ]
  },
  {
   "cell_type": "markdown",
   "metadata": {},
   "source": [
    "# <font color=red>Partie Pratique</font>"
   ]
  },
  {
   "cell_type": "markdown",
   "metadata": {},
   "source": [
    "Pour L'installation de la bibliothéque \"ipywidgets\" : juste efface \"#\" "
   ]
  },
  {
   "cell_type": "code",
   "execution_count": 1,
   "metadata": {},
   "outputs": [],
   "source": [
    "#conda install -c conda-forge ipympl"
   ]
  },
  {
   "cell_type": "code",
   "execution_count": 2,
   "metadata": {},
   "outputs": [
    {
     "name": "stdout",
     "output_type": "stream",
     "text": [
      "Requirement already satisfied: ipympl in c:\\users\\hp042-i7-1tr-2g\\anaconda3\\lib\\site-packages (0.5.6)\n",
      "Requirement already satisfied: ipykernel>=4.7 in c:\\users\\hp042-i7-1tr-2g\\anaconda3\\lib\\site-packages (from ipympl) (5.3.2)\n",
      "Requirement already satisfied: matplotlib>=2.0.0 in c:\\users\\hp042-i7-1tr-2g\\anaconda3\\lib\\site-packages (from ipympl) (3.2.2)\n",
      "Requirement already satisfied: ipywidgets>=7.5.0 in c:\\users\\hp042-i7-1tr-2g\\anaconda3\\lib\\site-packages (from ipympl) (7.5.1)\n",
      "Requirement already satisfied: traitlets>=4.1.0 in c:\\users\\hp042-i7-1tr-2g\\anaconda3\\lib\\site-packages (from ipykernel>=4.7->ipympl) (4.3.3)\n",
      "Requirement already satisfied: tornado>=4.2 in c:\\users\\hp042-i7-1tr-2g\\anaconda3\\lib\\site-packages (from ipykernel>=4.7->ipympl) (6.0.4)\n",
      "Requirement already satisfied: ipython>=5.0.0 in c:\\users\\hp042-i7-1tr-2g\\anaconda3\\lib\\site-packages (from ipykernel>=4.7->ipympl) (7.16.1)\n",
      "Requirement already satisfied: jupyter-client in c:\\users\\hp042-i7-1tr-2g\\anaconda3\\lib\\site-packages (from ipykernel>=4.7->ipympl) (6.1.6)\n",
      "Requirement already satisfied: numpy>=1.11 in c:\\users\\hp042-i7-1tr-2g\\anaconda3\\lib\\site-packages (from matplotlib>=2.0.0->ipympl) (1.18.5)\n",
      "Requirement already satisfied: pyparsing!=2.0.4,!=2.1.2,!=2.1.6,>=2.0.1 in c:\\users\\hp042-i7-1tr-2g\\anaconda3\\lib\\site-packages (from matplotlib>=2.0.0->ipympl) (2.4.7)\n",
      "Requirement already satisfied: cycler>=0.10 in c:\\users\\hp042-i7-1tr-2g\\anaconda3\\lib\\site-packages (from matplotlib>=2.0.0->ipympl) (0.10.0)\n",
      "Requirement already satisfied: kiwisolver>=1.0.1 in c:\\users\\hp042-i7-1tr-2g\\anaconda3\\lib\\site-packages (from matplotlib>=2.0.0->ipympl) (1.2.0)\n",
      "Requirement already satisfied: python-dateutil>=2.1 in c:\\users\\hp042-i7-1tr-2g\\anaconda3\\lib\\site-packages (from matplotlib>=2.0.0->ipympl) (2.8.1)\n",
      "Requirement already satisfied: widgetsnbextension~=3.5.0 in c:\\users\\hp042-i7-1tr-2g\\anaconda3\\lib\\site-packages (from ipywidgets>=7.5.0->ipympl) (3.5.1)\n",
      "Requirement already satisfied: nbformat>=4.2.0 in c:\\users\\hp042-i7-1tr-2g\\anaconda3\\lib\\site-packages (from ipywidgets>=7.5.0->ipympl) (5.0.7)\n",
      "Requirement already satisfied: six in c:\\users\\hp042-i7-1tr-2g\\anaconda3\\lib\\site-packages (from traitlets>=4.1.0->ipykernel>=4.7->ipympl) (1.15.0)\n",
      "Requirement already satisfied: decorator in c:\\users\\hp042-i7-1tr-2g\\anaconda3\\lib\\site-packages (from traitlets>=4.1.0->ipykernel>=4.7->ipympl) (4.4.2)\n",
      "Requirement already satisfied: ipython-genutils in c:\\users\\hp042-i7-1tr-2g\\anaconda3\\lib\\site-packages (from traitlets>=4.1.0->ipykernel>=4.7->ipympl) (0.2.0)\n",
      "Requirement already satisfied: colorama; sys_platform == \"win32\" in c:\\users\\hp042-i7-1tr-2g\\anaconda3\\lib\\site-packages (from ipython>=5.0.0->ipykernel>=4.7->ipympl) (0.4.3)\n",
      "Requirement already satisfied: pickleshare in c:\\users\\hp042-i7-1tr-2g\\anaconda3\\lib\\site-packages (from ipython>=5.0.0->ipykernel>=4.7->ipympl) (0.7.5)\n",
      "Requirement already satisfied: pygments in c:\\users\\hp042-i7-1tr-2g\\anaconda3\\lib\\site-packages (from ipython>=5.0.0->ipykernel>=4.7->ipympl) (2.6.1)\n",
      "Requirement already satisfied: jedi>=0.10 in c:\\users\\hp042-i7-1tr-2g\\anaconda3\\lib\\site-packages (from ipython>=5.0.0->ipykernel>=4.7->ipympl) (0.17.1)\n",
      "Requirement already satisfied: setuptools>=18.5 in c:\\users\\hp042-i7-1tr-2g\\anaconda3\\lib\\site-packages (from ipython>=5.0.0->ipykernel>=4.7->ipympl) (49.2.0.post20200714)\n",
      "Requirement already satisfied: prompt-toolkit!=3.0.0,!=3.0.1,<3.1.0,>=2.0.0 in c:\\users\\hp042-i7-1tr-2g\\anaconda3\\lib\\site-packages (from ipython>=5.0.0->ipykernel>=4.7->ipympl) (3.0.5)\n",
      "Requirement already satisfied: backcall in c:\\users\\hp042-i7-1tr-2g\\anaconda3\\lib\\site-packages (from ipython>=5.0.0->ipykernel>=4.7->ipympl) (0.2.0)\n",
      "Requirement already satisfied: pyzmq>=13 in c:\\users\\hp042-i7-1tr-2g\\anaconda3\\lib\\site-packages (from jupyter-client->ipykernel>=4.7->ipympl) (19.0.1)\n",
      "Requirement already satisfied: jupyter-core>=4.6.0 in c:\\users\\hp042-i7-1tr-2g\\anaconda3\\lib\\site-packages (from jupyter-client->ipykernel>=4.7->ipympl) (4.6.3)\n",
      "Requirement already satisfied: notebook>=4.4.1 in c:\\users\\hp042-i7-1tr-2g\\anaconda3\\lib\\site-packages (from widgetsnbextension~=3.5.0->ipywidgets>=7.5.0->ipympl) (6.0.3)\n",
      "Requirement already satisfied: jsonschema!=2.5.0,>=2.4 in c:\\users\\hp042-i7-1tr-2g\\anaconda3\\lib\\site-packages (from nbformat>=4.2.0->ipywidgets>=7.5.0->ipympl) (3.2.0)\n",
      "Requirement already satisfied: parso<0.8.0,>=0.7.0 in c:\\users\\hp042-i7-1tr-2g\\anaconda3\\lib\\site-packages (from jedi>=0.10->ipython>=5.0.0->ipykernel>=4.7->ipympl) (0.7.0)\n",
      "Requirement already satisfied: wcwidth in c:\\users\\hp042-i7-1tr-2g\\anaconda3\\lib\\site-packages (from prompt-toolkit!=3.0.0,!=3.0.1,<3.1.0,>=2.0.0->ipython>=5.0.0->ipykernel>=4.7->ipympl) (0.2.5)\n",
      "Requirement already satisfied: pywin32>=1.0; sys_platform == \"win32\" in c:\\users\\hp042-i7-1tr-2g\\anaconda3\\lib\\site-packages (from jupyter-core>=4.6.0->jupyter-client->ipykernel>=4.7->ipympl) (227)\n",
      "Requirement already satisfied: jinja2 in c:\\users\\hp042-i7-1tr-2g\\anaconda3\\lib\\site-packages (from notebook>=4.4.1->widgetsnbextension~=3.5.0->ipywidgets>=7.5.0->ipympl) (2.11.2)\n",
      "Requirement already satisfied: nbconvert in c:\\users\\hp042-i7-1tr-2g\\anaconda3\\lib\\site-packages (from notebook>=4.4.1->widgetsnbextension~=3.5.0->ipywidgets>=7.5.0->ipympl) (5.6.1)\n",
      "Requirement already satisfied: Send2Trash in c:\\users\\hp042-i7-1tr-2g\\anaconda3\\lib\\site-packages (from notebook>=4.4.1->widgetsnbextension~=3.5.0->ipywidgets>=7.5.0->ipympl) (1.5.0)\n",
      "Requirement already satisfied: terminado>=0.8.1 in c:\\users\\hp042-i7-1tr-2g\\anaconda3\\lib\\site-packages (from notebook>=4.4.1->widgetsnbextension~=3.5.0->ipywidgets>=7.5.0->ipympl) (0.8.3)\n",
      "Requirement already satisfied: prometheus-client in c:\\users\\hp042-i7-1tr-2g\\anaconda3\\lib\\site-packages (from notebook>=4.4.1->widgetsnbextension~=3.5.0->ipywidgets>=7.5.0->ipympl) (0.8.0)\n",
      "Requirement already satisfied: pyrsistent>=0.14.0 in c:\\users\\hp042-i7-1tr-2g\\anaconda3\\lib\\site-packages (from jsonschema!=2.5.0,>=2.4->nbformat>=4.2.0->ipywidgets>=7.5.0->ipympl) (0.16.0)\n",
      "Requirement already satisfied: attrs>=17.4.0 in c:\\users\\hp042-i7-1tr-2g\\anaconda3\\lib\\site-packages (from jsonschema!=2.5.0,>=2.4->nbformat>=4.2.0->ipywidgets>=7.5.0->ipympl) (19.3.0)\n",
      "Requirement already satisfied: MarkupSafe>=0.23 in c:\\users\\hp042-i7-1tr-2g\\anaconda3\\lib\\site-packages (from jinja2->notebook>=4.4.1->widgetsnbextension~=3.5.0->ipywidgets>=7.5.0->ipympl) (1.1.1)\n",
      "Requirement already satisfied: testpath in c:\\users\\hp042-i7-1tr-2g\\anaconda3\\lib\\site-packages (from nbconvert->notebook>=4.4.1->widgetsnbextension~=3.5.0->ipywidgets>=7.5.0->ipympl) (0.4.4)\n",
      "Requirement already satisfied: entrypoints>=0.2.2 in c:\\users\\hp042-i7-1tr-2g\\anaconda3\\lib\\site-packages (from nbconvert->notebook>=4.4.1->widgetsnbextension~=3.5.0->ipywidgets>=7.5.0->ipympl) (0.3)\n",
      "Requirement already satisfied: mistune<2,>=0.8.1 in c:\\users\\hp042-i7-1tr-2g\\anaconda3\\lib\\site-packages (from nbconvert->notebook>=4.4.1->widgetsnbextension~=3.5.0->ipywidgets>=7.5.0->ipympl) (0.8.4)\n",
      "Requirement already satisfied: bleach in c:\\users\\hp042-i7-1tr-2g\\anaconda3\\lib\\site-packages (from nbconvert->notebook>=4.4.1->widgetsnbextension~=3.5.0->ipywidgets>=7.5.0->ipympl) (3.1.5)\n",
      "Requirement already satisfied: defusedxml in c:\\users\\hp042-i7-1tr-2g\\anaconda3\\lib\\site-packages (from nbconvert->notebook>=4.4.1->widgetsnbextension~=3.5.0->ipywidgets>=7.5.0->ipympl) (0.6.0)\n",
      "Requirement already satisfied: pandocfilters>=1.4.1 in c:\\users\\hp042-i7-1tr-2g\\anaconda3\\lib\\site-packages (from nbconvert->notebook>=4.4.1->widgetsnbextension~=3.5.0->ipywidgets>=7.5.0->ipympl) (1.4.2)\n",
      "Requirement already satisfied: packaging in c:\\users\\hp042-i7-1tr-2g\\anaconda3\\lib\\site-packages (from bleach->nbconvert->notebook>=4.4.1->widgetsnbextension~=3.5.0->ipywidgets>=7.5.0->ipympl) (20.4)\n",
      "Requirement already satisfied: webencodings in c:\\users\\hp042-i7-1tr-2g\\anaconda3\\lib\\site-packages (from bleach->nbconvert->notebook>=4.4.1->widgetsnbextension~=3.5.0->ipywidgets>=7.5.0->ipympl) (0.5.1)\n",
      "Note: you may need to restart the kernel to use updated packages.\n"
     ]
    }
   ],
   "source": [
    "pip install ipympl"
   ]
  },
  {
   "cell_type": "code",
   "execution_count": 3,
   "metadata": {},
   "outputs": [],
   "source": [
    "import numpy as np\n",
    "from numpy import *\n",
    "import matplotlib.pyplot as plt\n",
    "%matplotlib widget\n",
    "import ipywidgets as widgets"
   ]
  },
  {
   "cell_type": "markdown",
   "metadata": {},
   "source": [
    "## <font color='green'>Méthode des Réctangles:</font>"
   ]
  },
  {
   "cell_type": "code",
   "execution_count": 4,
   "metadata": {},
   "outputs": [],
   "source": [
    "class RectangleG ( object ) :\n",
    "    def __init__ (self , a , b , n , f ) :\n",
    "        self.a = a\n",
    "        self.b = b\n",
    "        self.x = np.linspace( a , b , n+1 )\n",
    "        self.f = f\n",
    "        self.n = n\n",
    "    def integrate ( self , f ) :\n",
    "        x= self.x\n",
    "        y= f( x )\n",
    "        h = float( x[1] - x[0] )\n",
    "        s = sum( y[ 0 : -1 ] )\n",
    "        return h * s\n",
    "    def Graph ( self , f , resolution =1001 ) :\n",
    "        xl = self.x\n",
    "        yl = f(xl)\n",
    "        xlist_fine =np.linspace( self.a , self.b , resolution )\n",
    "        for i in range ( self.n ) :\n",
    "            x_rect = [xl[ i ] , xl[ i ] , xl[ i + 1 ] , xl[i+1] , xl[ i ] ] # abscisses des sommets\n",
    "            y_rect = [0 , yl[ i ] , yl[ i ] , 0 , 0 ] # ordonnees des sommets\n",
    "            plt.plot ( x_rect , y_rect , 'm' )\n",
    "        yflist_fine = f ( xlist_fine )\n",
    "        plt.plot ( xlist_fine , yflist_fine )\n",
    "        plt.plot(xl, yl,\"bo\")\n",
    "        plt.xlabel ( 'x' )\n",
    "        plt.ylabel ( ' f ( x ) ' )\n",
    "        plt.title ( ' Methode des rectangles gauches' )\n",
    "        #plt.text( 0.5*( self.a+ self.b ) , f(self.b ) , 'I_{} ={:0.8f}'.format(self.n,self.integrate( f ) ) , fontsize =15)"
   ]
  },
  {
   "cell_type": "markdown",
   "metadata": {},
   "source": [
    "## <font color='green'>Méthode des trapèzese:</font> "
   ]
  },
  {
   "cell_type": "code",
   "execution_count": 5,
   "metadata": {},
   "outputs": [],
   "source": [
    "class Trapezoidal(object):\n",
    "    def __init__(self, a, b, n, f):\n",
    "        self.a = a\n",
    "        self.b = b\n",
    "        self.x = np.linspace(a, b, n+1)\n",
    "        self.f = f\n",
    "        self.n = n\n",
    "    def integrate(self,f):\n",
    "        x=self.x\n",
    "        y=f(x)\n",
    "        h = float(x[1] - x[0])\n",
    "        s = y[0] + y[-1] + 2.0*sum(y[1:-1])\n",
    "        return h * s / 2.0\n",
    "    def Graph(self,f,resolution=1001):\n",
    "        xl = self.x\n",
    "        yl = f(xl)\n",
    "        xlist_fine=np.linspace(self.a, self.b, resolution)\n",
    "        for i in range(self.n):\n",
    "            x_rect = [xl[i], xl[i], xl[i+1], xl[i+1], xl[i]] # abscisses des sommets\n",
    "            y_rect = [0   , yl[i], yl[i+1]  , 0     , 0   ] # ordonnees des sommets\n",
    "            plt.plot(x_rect, y_rect,\"r\")\n",
    "        yflist_fine = f(xlist_fine)\n",
    "        plt.plot(xlist_fine, yflist_fine)#plot de f(x)\n",
    "        plt.plot(xl, yl,\"cs\")#point support\n",
    "        plt.ylabel ( ' f ( x ) ' )\n",
    "        plt.title ( ' Methode des Trapèzes' )\n",
    "        #plt.text( 0.5*( self.a+ self.b ) , f(self.b ) , 'I_{} ={:0.8f}'.format(self.n,self.integrate( f ) ) , fontsize =15 )"
   ]
  },
  {
   "cell_type": "markdown",
   "metadata": {},
   "source": [
    "## <font color='green'>Méthode des points milieux:</font>"
   ]
  },
  {
   "cell_type": "code",
   "execution_count": 6,
   "metadata": {},
   "outputs": [],
   "source": [
    "class PointMilieu ( object ) :\n",
    "    def __init__ (self , a , b , n , f ) :\n",
    "        self.a = a\n",
    "        self.b = b\n",
    "        self.x = np.linspace( a , b , n+1 )\n",
    "        self.f = f\n",
    "        self.n = n       \n",
    "    def integrate ( self , f ) :\n",
    "        h = float(self.b-self.a)/(self.n)\n",
    "        sum1 = 0\n",
    "        for i in range(self.n):\n",
    "            sum1 += f(self.a + (i+1/2)*h)\n",
    "                      \n",
    "        s = h*sum1\n",
    "        return s \n",
    "    def Graph ( self , f , resolution=1001 ) :\n",
    "        xl = self.x\n",
    "        yl = f(xl)\n",
    "        xlist_fine=np.linspace( self.a , self.b , resolution )\n",
    "        for i in range ( self.n ) :\n",
    "            mi=(xl[i]+xl[i+1])/2\n",
    "            x_rect = [xl[ i ] , xl[ i ] , xl[ i + 1 ] , xl[i+1] , xl[ i ] ] # abscisses des sommets\n",
    "            y_rect = [0 , f(mi) , f(mi) , 0 , 0 ] # ordonnees des sommets\n",
    "            plt.plot ( x_rect , y_rect , 'r' )\n",
    "            plt.plot(mi,f(mi),'r*')\n",
    "        yflist_fine=f(xlist_fine)\n",
    "        plt.plot (xlist_fine,yflist_fine )\n",
    "        plt.xlabel ( 'x' )\n",
    "        plt.ylabel ( 'f(x)' )\n",
    "        plt.title ( ' Methode des points milieux' )\n",
    "        #plt.text( 0.5*( self.a+ self.b ) , f(self.b ) , 'I_{} ={:0.8f}'.format(self.n,self.integrate( f ) ) , fontsize =15 )"
   ]
  },
  {
   "cell_type": "markdown",
   "metadata": {},
   "source": [
    "## <font color='green'>Méthode de simpson:</font>"
   ]
  },
  {
   "cell_type": "code",
   "execution_count": 7,
   "metadata": {},
   "outputs": [],
   "source": [
    "class Simpson ( object ) :\n",
    "    def __init__ (self , a , b , n , f ) :\n",
    "        self.a = a\n",
    "        self.b = b\n",
    "        self.x = np.linspace( a , b , n+1 )\n",
    "        self.f = f\n",
    "        self.n = n   \n",
    "    def integrate ( self , f ) :\n",
    "        x = self.x\n",
    "        y=f(x)\n",
    "        h=float(x[1]-x[0])\n",
    "        n=len(x)-1\n",
    "        if n%2==1:\n",
    "            n-=1\n",
    "        s = y[0] + y[n] + 4.0 * sum(y[1:-1:2]) + 2.0 * sum(y[2:-2:2])\n",
    "        return h*s/3.0\n",
    "    def Graph ( self , f , resolution=1001 ) :\n",
    "        xl = self.x\n",
    "        yl = f(xl)\n",
    "        xlist_fine=np.linspace( self.a , self.b , resolution )\n",
    "        for i in range ( self.n ) :\n",
    "            xx=np.linspace(xl[i],xl[i+1],resolution)\n",
    "            m=(xl[i]+xl[i+1])/2\n",
    "            aa=xl[i]\n",
    "            bb=xl[i+1]\n",
    "            l0=(xx-m)/(aa-m)*(xx-bb)/(aa-bb)\n",
    "            l1=(xx-aa)/(m-aa)*(xx-bb)/(m-bb)\n",
    "            l2=(xx-aa)/(bb-aa)*(xx-m)/(bb-m)\n",
    "            P=f(aa)*l0+f(m)*l1+f(bb)*l2\n",
    "            plt.plot(xx,P,'b')\n",
    "            plt.plot(m,f(m),\"r*\")\n",
    "    \n",
    "        yflist_fine=f(xlist_fine)\n",
    "        plt.plot (xlist_fine,yflist_fine,'g' )\n",
    "        plt.plot (xl,yl,'bo' )\n",
    "        plt.ylabel ( 'f(x)' )\n",
    "        plt.title ( ' Méthode de Simpson' )\n",
    "        #plt.text( 0.5*( self.a+ self.b ) , f(self.b ) , 'I_{} ={:0.8f}'.format(self.n,self.integrate( f ) ) , fontsize =15 )"
   ]
  },
  {
   "cell_type": "code",
   "execution_count": 8,
   "metadata": {},
   "outputs": [],
   "source": [
    "text_func = widgets.Text(value='cos(x)', description='Fonction', continuous_update=False)\n",
    "text_xlabel = widgets.Text(value='', description='xlabel', continuous_update=False)\n",
    "text_ylabel = widgets.Text(value='', description='ylabel', continuous_update=False)\n",
    "text_a = widgets.Text(value='-1', description='a', continuous_update=False)\n",
    "text_b = widgets.Text(value='1', description='b', continuous_update=False)\n",
    "text_n= widgets.Text(value='3', description='n', continuous_update=False)\n",
    "text_int=widgets.Text(value='', description='I_n', continuous_update=False)\n",
    "text_int1=widgets.Text(value='', description='I_n', continuous_update=False)\n",
    "text_int2=widgets.Text(value='', description='I_n', continuous_update=False)\n",
    "text_int3=widgets.Text(value='', description='I_n', continuous_update=False)\n",
    "\n",
    "button=widgets.Button(description='Caluler et afficher')\n",
    "\n",
    "# callback functions\n",
    "def sim(b):\n",
    "    dic={1:RectangleG,2:Trapezoidal,3:PointMilieu,4:Simpson}\n",
    "    plt.clf()\n",
    "    func=lambda x:eval(text_func.value)\n",
    "    R=dic[1](float(text_a.value),float(text_b.value),int(text_n.value),func)\n",
    "    T=dic[2](float(text_a.value),float(text_b.value),int(text_n.value),func)\n",
    "    P=dic[3](float(text_a.value),float(text_b.value),int(text_n.value),func)\n",
    "    S=dic[4](float(text_a.value),float(text_b.value),int(text_n.value),func)\n",
    "    plt.subplots_adjust(hspace=0.4,wspace = 0.4)\n",
    "    plt.subplot(221)\n",
    "    R.Graph(func)\n",
    "    plt.subplot(222)\n",
    "    T.Graph(func)\n",
    "    plt.subplot(223)\n",
    "    S.Graph(func)\n",
    "    plt.subplot(224)\n",
    "    P.Graph(func)\n",
    "    text_int.value=str(R.integrate(func))\n",
    "    text_int.description='m_Rect.I'+text_n.value\n",
    "    text_int1.value=str(T.integrate(func))\n",
    "    text_int1.description='m_Trap.I'+text_n.value\n",
    "    text_int2.value=str(P.integrate(func))\n",
    "    text_int2.description='m_Milieu.I'+text_n.value\n",
    "    text_int3.value=str(S.integrate(func))\n",
    "    text_int3.description='m_Simp.I'+text_n.value\n",
    "    \n",
    "def update_a(change):\n",
    "    change.new\n",
    "def update_b(change):\n",
    "    change.new\n",
    "def update_n(change):\n",
    "    change.new\n",
    "def update_f(change):\n",
    "    change.new\n",
    "    \n",
    "button.on_click(sim)\n",
    "text_func.observe(update_f,'value')\n",
    "text_a.observe(update_a,'value')\n",
    "text_b.observe(update_b,'value')\n",
    "text_n.observe(update_n,'value')"
   ]
  },
  {
   "cell_type": "code",
   "execution_count": 9,
   "metadata": {},
   "outputs": [],
   "source": [
    "output = widgets.Output()\n",
    "with output:\n",
    "    fig,ax = plt.subplots(constrained_layout=True, figsize=(6, 4))\n",
    "# move the toolbar to the bottom\n",
    "fig.canvas.toolbar_position = 'bottom'"
   ]
  },
  {
   "cell_type": "code",
   "execution_count": 11,
   "metadata": {},
   "outputs": [
    {
     "data": {
      "application/vnd.jupyter.widget-view+json": {
       "model_id": "1d412fa3f190448f9327ede328463263",
       "version_major": 2,
       "version_minor": 0
      },
      "text/plain": [
       "HBox(children=(VBox(children=(Text(value='cos(x)', continuous_update=False, description='Fonction'), Text(valu…"
      ]
     },
     "metadata": {},
     "output_type": "display_data"
    }
   ],
   "source": [
    "def make_boxes():\n",
    "    vbox1 = widgets.VBox([text_func,text_a,text_b,text_n,button,text_int,text_int1,text_int2,text_int3])\n",
    "    vbox2=widgets.VBox([output])\n",
    "    return vbox1,vbox2\n",
    "box_layout=widgets.Layout(\n",
    "    border='solid 3px black' ,\n",
    "    margin='0px 10px 10px 0px',\n",
    "    padding='5px 5px 5px 5px')\n",
    "vbox1,vbox2=make_boxes()\n",
    "vbox1.layout = box_layout\n",
    "vbox2.layout = box_layout\n",
    "widgets.HBox([vbox1, vbox2])"
   ]
  },
  {
   "cell_type": "markdown",
   "metadata": {},
   "source": [
    "## Le but de ceTP3 est de comparer ces 4 méthode d’intégrations numériques :"
   ]
  },
  {
   "cell_type": "markdown",
   "metadata": {},
   "source": [
    "<img src=\"img13.png\">"
   ]
  },
  {
   "cell_type": "markdown",
   "metadata": {},
   "source": [
    "## <font color='red'>==> Plus que le nombre de subdivisions augmente, les valeurs sont plus proches des valeurs exactes </font>"
   ]
  },
  {
   "cell_type": "markdown",
   "metadata": {},
   "source": [
    "<img src=\"img9.png\">"
   ]
  },
  {
   "cell_type": "code",
   "execution_count": null,
   "metadata": {},
   "outputs": [],
   "source": []
  }
 ],
 "metadata": {
  "kernelspec": {
   "display_name": "Python 3",
   "language": "python",
   "name": "python3"
  },
  "language_info": {
   "codemirror_mode": {
    "name": "ipython",
    "version": 3
   },
   "file_extension": ".py",
   "mimetype": "text/x-python",
   "name": "python",
   "nbconvert_exporter": "python",
   "pygments_lexer": "ipython3",
   "version": "3.8.3"
  }
 },
 "nbformat": 4,
 "nbformat_minor": 4
}
